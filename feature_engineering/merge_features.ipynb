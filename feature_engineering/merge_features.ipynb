{
 "cells": [
  {
   "cell_type": "code",
   "execution_count": null,
   "metadata": {},
   "outputs": [],
   "source": [
    "import numpy as np\n",
    "import pandas as pd\n",
    "pd.options.display.precision = 15\n",
    "pd.set_option('display.max_columns', None)\n",
    "import seaborn as sns\n",
    "import matplotlib.pyplot as plt\n",
    "%matplotlib inline\n",
    "import warnings\n",
    "import gc\n",
    "warnings.filterwarnings('ignore')\n",
    "import os\n",
    "import openbabel\n",
    "from tqdm import tqdm as tqdm\n",
    "tqdm.pandas()\n",
    "from sklearn.preprocessing import LabelEncoder"
   ]
  },
  {
   "cell_type": "code",
   "execution_count": null,
   "metadata": {},
   "outputs": [],
   "source": [
    "def reduce_mem_usage(df, verbose=True):\n",
    "    numerics = ['int16', 'int32', 'int64', 'float16', 'float32', 'float64']\n",
    "    start_mem = df.memory_usage().sum() / 1024**2    \n",
    "    for col in df.columns:\n",
    "        col_type = df[col].dtypes\n",
    "        if col_type in numerics:\n",
    "            c_min = df[col].min()\n",
    "            c_max = df[col].max()\n",
    "            if str(col_type)[:3] == 'int':\n",
    "                if c_min > np.iinfo(np.int8).min and c_max < np.iinfo(np.int8).max:\n",
    "                    df[col] = df[col].astype(np.int8)\n",
    "                elif c_min > np.iinfo(np.int16).min and c_max < np.iinfo(np.int16).max:\n",
    "                    df[col] = df[col].astype(np.int16)\n",
    "                elif c_min > np.iinfo(np.int32).min and c_max < np.iinfo(np.int32).max:\n",
    "                    df[col] = df[col].astype(np.int32)\n",
    "                elif c_min > np.iinfo(np.int64).min and c_max < np.iinfo(np.int64).max:\n",
    "                    df[col] = df[col].astype(np.int64)  \n",
    "            else:\n",
    "                if c_min > np.finfo(np.float16).min and c_max < np.finfo(np.float16).max:\n",
    "                    df[col] = df[col].astype(np.float16)\n",
    "                elif c_min > np.finfo(np.float32).min and c_max < np.finfo(np.float32).max:\n",
    "                    df[col] = df[col].astype(np.float32)\n",
    "                else:\n",
    "                    df[col] = df[col].astype(np.float64)    \n",
    "    end_mem = df.memory_usage().sum() / 1024**2\n",
    "    if verbose: print('Mem. usage decreased to {:5.2f} Mb ({:.1f}% reduction)'.format(end_mem, 100 * (start_mem - end_mem) / start_mem))\n",
    "    return df"
   ]
  },
  {
   "cell_type": "code",
   "execution_count": null,
   "metadata": {},
   "outputs": [],
   "source": [
    "train = pd.read_pickle('../input/train.pkl')\n",
    "test = pd.read_pickle('../input/test.pkl')\n",
    "structures = pd.read_pickle('../input/structures.pkl')\n",
    "dist_each_other = pd.read_pickle('./feature_output/dist_each_other.pkl')"
   ]
  },
  {
   "cell_type": "code",
   "execution_count": null,
   "metadata": {},
   "outputs": [],
   "source": [
    "def map_structure_info(df):\n",
    "    df = pd.merge(df, structures, how = 'left',\n",
    "                  left_on = ['molecule_name', f'atom_index_0'],\n",
    "                  right_on = ['molecule_name',  'atom_index'],\n",
    "                  suffixes=['_0', '_1'])\n",
    "    \n",
    "    df = df.drop('atom_index', axis=1)\n",
    "    \n",
    "    df = pd.merge(df, structures, how = 'left',\n",
    "                  left_on = ['molecule_name', f'atom_index_1'],\n",
    "                  right_on = ['molecule_name',  'atom_index'],\n",
    "                  suffixes=['_0', '_1'])\n",
    "    \n",
    "    df = df.drop('atom_index', axis=1)\n",
    "   \n",
    "    return df\n",
    "\n",
    "\n",
    "train = map_structure_info(train)\n",
    "test = map_structure_info(test)"
   ]
  },
  {
   "cell_type": "code",
   "execution_count": null,
   "metadata": {},
   "outputs": [],
   "source": [
    "def add_distance_features(df):\n",
    "    df_p_0 = df[['x_0', 'y_0', 'z_0']].values\n",
    "    df_p_1 = df[['x_1', 'y_1', 'z_1']].values\n",
    "    \n",
    "    df['dist'] = np.linalg.norm(df_p_0 - df_p_1, axis=1)\n",
    "\n",
    "    return df\n",
    "\n",
    "\n",
    "train = add_distance_features(train)\n",
    "test = add_distance_features(test)"
   ]
  },
  {
   "cell_type": "code",
   "execution_count": null,
   "metadata": {},
   "outputs": [],
   "source": [
    "atom_count = structures.groupby(['molecule_name', 'atom']).size().unstack(fill_value=0)\n",
    "train = pd.merge(train, atom_count, how='left', on='molecule_name')\n",
    "test = pd.merge(test, atom_count, how='left', on='molecule_name')"
   ]
  },
  {
   "cell_type": "code",
   "execution_count": null,
   "metadata": {},
   "outputs": [],
   "source": [
    "obConversion = openbabel.OBConversion()\n",
    "obConversion.SetInFormat(\"xyz\")\n",
    "\n",
    "structdir='../input/structures/'\n",
    "mols=[]\n",
    "mols_files=os.listdir(structdir)\n",
    "mols_index=dict(map(reversed,enumerate(mols_files)))\n",
    "for f in mols_index.keys():\n",
    "    mol = openbabel.OBMol()\n",
    "    obConversion.ReadFile(mol, structdir+f) \n",
    "    mols.append(mol)"
   ]
  },
  {
   "cell_type": "code",
   "execution_count": null,
   "metadata": {},
   "outputs": [],
   "source": [
    "def Atoms(molname,AtomId1,AtomId2):\n",
    "    mol=mols[mols_index[molname+'.xyz']]\n",
    "    return mol, mol.GetAtomById(AtomId1), mol.GetAtomById(AtomId2)\n",
    "\n",
    "\n",
    "def SecondAtom(bond,FirstAtom):\n",
    "    if FirstAtom.GetId()==bond.GetBeginAtom().GetId(): return bond.GetEndAtom()\n",
    "    else: return bond.GetBeginAtom()\n",
    "\n",
    "    \n",
    "def Angle2J(molname,AtomId1,AtomId2,debug=False):\n",
    "    mol,firstAtom,lastAtom=Atoms(molname,AtomId1,AtomId2)\n",
    "    if debug: print (mol.GetFormula())\n",
    "    if debug: print(firstAtom.GetType(),firstAtom.GetId(),':',lastAtom.GetType(),lastAtom.GetId())\n",
    "    for b in openbabel.OBAtomBondIter(firstAtom):\n",
    "        secondAtom=SecondAtom(b,firstAtom)\n",
    "        lastBond=secondAtom.GetBond(lastAtom)\n",
    "        if lastBond:\n",
    "            if debug: print('middle',secondAtom.GetId(),secondAtom.GetType())\n",
    "            return firstAtom.GetAngle(secondAtom,lastAtom)\n",
    "\n",
    "        \n",
    "def Torsion3J(molname,AtomId1,AtomId2,debug=False):\n",
    "    mol,firstAtom,lastAtom=Atoms(molname,AtomId1,AtomId2)\n",
    "    if debug: print (molname, mol.GetFormula())\n",
    "    if debug: print(firstAtom.GetType(),firstAtom.GetId(),':',lastAtom.GetType(),lastAtom.GetId())\n",
    "    for b in openbabel.OBAtomBondIter(firstAtom):\n",
    "        secondAtom=SecondAtom(b,firstAtom)\n",
    "        for b2 in openbabel.OBAtomBondIter(secondAtom):\n",
    "            thirdAtom=SecondAtom(b2,secondAtom)\n",
    "            lastBond=thirdAtom.GetBond(lastAtom)\n",
    "            if lastBond: # found!\n",
    "                if debug: print(secondAtom.GetType(),secondAtom.GetId(),'<->',thirdAtom.GetType(),thirdAtom.GetId())\n",
    "                return mol.GetTorsion(firstAtom,secondAtom,thirdAtom,lastAtom)\n",
    "            \n",
    "            \n",
    "def add_angular_fetures(df):\n",
    "    df['sp']=df.progress_apply(lambda row: Atoms(row.molecule_name, row.atom_index_0, row.atom_index_1)[2].GetHyb(),axis=1)\n",
    "    df['Angle']=df.progress_apply(lambda row: Angle2J(row.molecule_name , row.atom_index_0, row.atom_index_1),axis=1)\n",
    "    df['cosA']=np.cos(np.deg2rad(df['Angle']))\n",
    "    df['cos2A']=np.cos(2*np.deg2rad(df['Angle']))\n",
    "    df['Torsion']=df.progress_apply(lambda row: Torsion3J(row.molecule_name , row.atom_index_0, row.atom_index_1),axis=1) \n",
    "    df['cosT']=np.cos(np.deg2rad(df['Torsion']))\n",
    "    df['cos2T']=np.cos(2*np.deg2rad(df['Torsion']))\n",
    "    \n",
    "    return df\n",
    "\n",
    "\n",
    "train = add_angular_fetures(train)\n",
    "test = add_angular_fetures(test)"
   ]
  },
  {
   "cell_type": "code",
   "execution_count": null,
   "metadata": {},
   "outputs": [],
   "source": [
    "def map_dist_each_other(df):\n",
    "    df = pd.merge(df, dist_each_other, how = 'left',\n",
    "                  left_on = ['molecule_name', f'atom_index_0'],\n",
    "                  right_on = ['molecule_name',  'atom_index'],\n",
    "                  suffixes=['_atom_0', '_atom_1'])\n",
    "    \n",
    "    df = df.drop('atom_index', axis=1)\n",
    "    \n",
    "    df = pd.merge(df, dist_each_other, how = 'left',\n",
    "                  left_on = ['molecule_name', f'atom_index_1'],\n",
    "                  right_on = ['molecule_name',  'atom_index'],\n",
    "                  suffixes=['_atom_0', '_atom_1'])\n",
    "    \n",
    "    df = df.drop('atom_index', axis=1)\n",
    "    \n",
    "    return df\n",
    "\n",
    "\n",
    "train = map_dist_each_other(train)\n",
    "test = map_dist_each_other(test)"
   ]
  },
  {
   "cell_type": "code",
   "execution_count": null,
   "metadata": {},
   "outputs": [],
   "source": [
    "def add_dist_features(df):\n",
    "    atoms = ['H', 'C', 'N', 'O', 'F']\n",
    "\n",
    "    for i in [0, 1]:\n",
    "        each_atom_idx = pd.DataFrame()\n",
    "        \n",
    "        for atom in atoms:\n",
    "            each_atom = pd.DataFrame()\n",
    "            \n",
    "            for j in range(20):\n",
    "                each_atom[f'dist_{atom}_{j}_atom_{i}'] = df[f'dist_{atom}_{j}_atom_{i}']\n",
    "            \n",
    "            each_atom_mean = each_atom.mean(axis=1, skipna=True)\n",
    "            df[f'dist_{atom}_atom_{i}'] = each_atom_mean\n",
    "            each_atom_idx[f'dist_{atom}_atom_{i}'] = each_atom_mean\n",
    "            \n",
    "        df[f'Dist_mean_atom_{i}'] = each_atom_idx.mean(axis=1, skipna=True)\n",
    "        \n",
    "    return df\n",
    "\n",
    "\n",
    "train = add_dist_features(train)\n",
    "test = add_dist_features(test)"
   ]
  },
  {
   "cell_type": "code",
   "execution_count": null,
   "metadata": {},
   "outputs": [],
   "source": [
    "# def dist_to_potential(df):\n",
    "#     atoms = ['H', 'C', 'N', 'O', 'F']\n",
    "#     cols = df.columns\n",
    "    \n",
    "#     for i in [0, 1]:\n",
    "#         for atom in atoms:\n",
    "#             for j in range(20):\n",
    "#                 df[f'potential_{atom}_{j}_atom_{i}'] = 1 / df[f'dist_{atom}_{j}_atom_{i}']\n",
    "                    \n",
    "#     return df\n",
    "\n",
    "# train = dist_to_potential(train)\n",
    "# test = dist_to_potential(test)"
   ]
  },
  {
   "cell_type": "code",
   "execution_count": null,
   "metadata": {
    "scrolled": true
   },
   "outputs": [],
   "source": [
    "def add_potential_features(df):\n",
    "    atoms = ['H', 'C', 'N', 'O', 'F']\n",
    "\n",
    "    for i in [0, 1]:\n",
    "        each_atom_idx = np.zeros(len(df))\n",
    "        for atom in atoms:\n",
    "            each_atom = np.zeros(len(df))\n",
    "            for j in range(20):\n",
    "                potential = (1 / df[f'dist_{atom}_{j}_atom_{i}']).fillna(0)\n",
    "                each_atom += potential.values\n",
    "            \n",
    "            each_atom_idx += each_atom\n",
    "            df[f'coulomb_{atom}_atom_{i}'] = each_atom\n",
    "        df[f'Coulomb_atom_{i}'] = each_atom_idx\n",
    "         \n",
    "    for i in [0, 1]:\n",
    "        each_atom_idx = np.zeros(len(df))\n",
    "        for atom in atoms:\n",
    "            each_atom = np.zeros(len(df))\n",
    "            for j in range(20):\n",
    "                potential = (1 / (df[f'dist_{atom}_{j}_atom_{i}'] ** 3)).fillna(0)\n",
    "                each_atom += potential.values\n",
    "            \n",
    "            each_atom_idx += each_atom\n",
    "            df[f'dipole_{atom}_atom_{i}'] = each_atom\n",
    "        df[f'Dipole_atom_{i}'] = each_atom_idx\n",
    "        \n",
    "    for i in [0, 1]:\n",
    "        each_atom_idx = np.zeros(len(df))\n",
    "        for atom in atoms:\n",
    "            each_atom = np.zeros(len(df))\n",
    "            for j in range(20):\n",
    "                potential = (1 / (df[f'dist_{atom}_{j}_atom_{i}'] ** 6)).fillna(0)\n",
    "                each_atom += potential.values\n",
    "            \n",
    "            each_atom_idx += each_atom\n",
    "            df[f'vander_{atom}_atom_{i}'] = each_atom\n",
    "        df[f'Vander_atom_{i}'] = each_atom_idx\n",
    "        \n",
    "    for i in [0, 1]:\n",
    "        each_atom_idx = np.zeros(len(df))\n",
    "        for atom in atoms:\n",
    "            each_atom = np.zeros(len(df))\n",
    "            for j in range(20):\n",
    "                potential = (np.exp(-df[f'dist_{atom}_{j}_atom_{i}']) / df[f'dist_{atom}_{j}_atom_{i}']).fillna(0)\n",
    "                each_atom += potential.values\n",
    "            \n",
    "            each_atom_idx += each_atom\n",
    "            df[f'yukawa_{atom}_atom_{i}'] = each_atom\n",
    "        df[f'Yukawa_atom_{i}'] = each_atom_idx\n",
    "        \n",
    "    df['All_potential_0'] = df['Coulomb_atom_0'] + df['Dipole_atom_0'] + df['Vander_atom_0'] + df['Yukawa_atom_0']\n",
    "    df['All_potential_1'] = df['Coulomb_atom_1'] + df['Dipole_atom_1'] + df['Vander_atom_1'] + df['Yukawa_atom_1']\n",
    "    \n",
    "    return df\n",
    "\n",
    "\n",
    "train = add_potential_features(train)\n",
    "test = add_potential_features(test)"
   ]
  },
  {
   "cell_type": "code",
   "execution_count": null,
   "metadata": {},
   "outputs": [],
   "source": [
    "def dist_zero_to_nan(df):\n",
    "    atoms = ['H', 'C', 'N', 'O', 'F']\n",
    "    for i in [0, 1]:\n",
    "        for atom in atoms:            \n",
    "            df[f'dist_{atom}_atom_{i}'] = df[f'dist_{atom}_atom_{i}'].replace(0, np.nan)\n",
    "        \n",
    "    return df\n",
    "\n",
    "\n",
    "train = dist_zero_to_nan(train)\n",
    "test = dist_zero_to_nan(test)"
   ]
  },
  {
   "cell_type": "code",
   "execution_count": null,
   "metadata": {},
   "outputs": [],
   "source": [
    "train = reduce_mem_usage(train)\n",
    "test = reduce_mem_usage(test)"
   ]
  },
  {
   "cell_type": "code",
   "execution_count": null,
   "metadata": {},
   "outputs": [],
   "source": [
    "train.to_pickle('./feature_output/train_merged.pkl')\n",
    "test.to_pickle('./feature_output/test_merged.pkl')"
   ]
  },
  {
   "cell_type": "code",
   "execution_count": null,
   "metadata": {},
   "outputs": [],
   "source": [
    "types = train['type'].unique()\n",
    "\n",
    "for t in types:\n",
    "    train_idx = train['type'] == t\n",
    "    test_idx = test['type'] == t\n",
    "    \n",
    "    train_type = train.loc[train_idx]\n",
    "    test_type = test.loc[test_idx]\n",
    "    \n",
    "    train_type.to_csv(f'./feature_output/each_type/train_{t}.csv', index=False)\n",
    "    test_type.to_csv(f'./feature_output/each_type/test_{t}.csv', index=False)"
   ]
  },
  {
   "cell_type": "code",
   "execution_count": null,
   "metadata": {
    "scrolled": false
   },
   "outputs": [],
   "source": [
    "print(train.shape, test.shape)"
   ]
  },
  {
   "cell_type": "code",
   "execution_count": null,
   "metadata": {},
   "outputs": [],
   "source": [
    "train.head()"
   ]
  },
  {
   "cell_type": "code",
   "execution_count": null,
   "metadata": {},
   "outputs": [],
   "source": [
    "test.head()"
   ]
  }
 ],
 "metadata": {
  "kernelspec": {
   "display_name": "Python 3",
   "language": "python",
   "name": "python3"
  },
  "language_info": {
   "codemirror_mode": {
    "name": "ipython",
    "version": 3
   },
   "file_extension": ".py",
   "mimetype": "text/x-python",
   "name": "python",
   "nbconvert_exporter": "python",
   "pygments_lexer": "ipython3",
   "version": "3.7.3"
  }
 },
 "nbformat": 4,
 "nbformat_minor": 2
}
