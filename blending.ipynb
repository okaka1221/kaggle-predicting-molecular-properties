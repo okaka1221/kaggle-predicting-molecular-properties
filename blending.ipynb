{
 "cells": [
  {
   "cell_type": "code",
   "execution_count": 1,
   "metadata": {},
   "outputs": [],
   "source": [
    "import pandas as pd"
   ]
  },
  {
   "cell_type": "code",
   "execution_count": 2,
   "metadata": {},
   "outputs": [],
   "source": [
    "sub1 = pd.read_csv(\"./output/submission_fc_tuned.csv\")\n",
    "sub2 = pd.read_csv(\"./output/submission_fc_default.csv\")\n",
    "sub3 = pd.read_csv(\"./output/submission_fc_tuned_without_van_der.csv\")\n",
    "sub4 = pd.read_csv(\"./output/submission_tuned.csv\")\n",
    "sub5 = pd.read_csv(\"./output/submission_tuned_without_van_der.csv\")\n",
    "sub6 = pd.read_csv(\"./output/submission_ensembling.csv\")"
   ]
  },
  {
   "cell_type": "code",
   "execution_count": 3,
   "metadata": {},
   "outputs": [],
   "source": [
    "sub_median = sub1.copy()\n",
    "a = pd.DataFrame(sub1['scalar_coupling_constant'])\n",
    "a['2'] = sub2['scalar_coupling_constant']\n",
    "a['6'] = sub3['scalar_coupling_constant']\n",
    "sub_median['scalar_coupling_constant'] = a.median(axis=1)\n",
    "sub_median.to_csv('./output/median_sub1_sub2_sub3.csv', index=False)"
   ]
  },
  {
   "cell_type": "code",
   "execution_count": 8,
   "metadata": {},
   "outputs": [],
   "source": [
    "sub_blend = sub1.copy()\n",
    "sub_blend['scalar_coupling_constant'] = sub1['scalar_coupling_constant'] * 0.5 + sub2['scalar_coupling_constant']*0.2 + sub3['scalar_coupling_constant']*0.3\n",
    "sub_blend.to_csv('./output/sub1_0.5_sub2_0.2_sub3+0.3.csv', index=False)"
   ]
  },
  {
   "cell_type": "code",
   "execution_count": 7,
   "metadata": {},
   "outputs": [],
   "source": [
    "sub_blend = sub1.copy()\n",
    "sub_blend['scalar_coupling_constant'] = sub4['scalar_coupling_constant'] * 0.6 + sub5['scalar_coupling_constant']*0.4\n",
    "sub_blend.to_csv('./output/sub4_0.6_sub5_0.4.csv', index=False)"
   ]
  },
  {
   "cell_type": "code",
   "execution_count": 5,
   "metadata": {},
   "outputs": [],
   "source": [
    "sub_blend = sub1.copy()\n",
    "sub_blend['scalar_coupling_constant'] = (sub1['scalar_coupling_constant'] + sub2['scalar_coupling_constant'] + sub6['scalar_coupling_constant']) / 3\n",
    "sub_blend.to_csv('./output/mean_sub1_sub2_sub6.csv', index=False)"
   ]
  }
 ],
 "metadata": {
  "kernelspec": {
   "display_name": "Python 3",
   "language": "python",
   "name": "python3"
  },
  "language_info": {
   "codemirror_mode": {
    "name": "ipython",
    "version": 3
   },
   "file_extension": ".py",
   "mimetype": "text/x-python",
   "name": "python",
   "nbconvert_exporter": "python",
   "pygments_lexer": "ipython3",
   "version": "3.7.3"
  }
 },
 "nbformat": 4,
 "nbformat_minor": 2
}
